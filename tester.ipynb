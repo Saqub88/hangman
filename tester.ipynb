{
 "cells": [
  {
   "cell_type": "code",
   "execution_count": 50,
   "metadata": {},
   "outputs": [],
   "source": [
    "import random\n",
    "fruit_file = open(\"fruits.txt\", 'r')\n",
    "fruit_raw_text = fruit_file.read()\n",
    "fruit_cleaned = fruit_raw_text.replace('\\n', ' ')\n",
    "fruits = fruit_cleaned.split()\n",
    "word = random.choice(fruits)"
   ]
  },
  {
   "cell_type": "code",
   "execution_count": 40,
   "metadata": {},
   "outputs": [],
   "source": [
    "class Hangman:\n",
    "    def __init__(self, word_list, num_lives=5):\n",
    "        self.word_list = word_list\n",
    "        self.num_lives = num_lives\n",
    "        self.word_guessed = list(str(random.choice(self.word_list)))\n",
    "        self.num_letters = []\n",
    "        self.list_of_guesses = []\n",
    "        self.guess = None\n",
    "    \n",
    "    def input_guess(self):\n",
    "        self.guess = input(\"Please enter a single letter as your guess: \")\n",
    "        print(self.guess)\n",
    "\n",
    "    def ask_for_input(self):\n",
    "        while True:\n",
    "            if len(self.guess) == 1 and self.guess.isalpha():\n",
    "                break\n",
    "            else:\n",
    "                self.guess = (input(\"Invalid letter. Please, enter a single alphabetical character.\"))\n",
    "\n",
    "    def check_guess(self):\n",
    "        if self.guess in self.list_of_guesses:\n",
    "            return print(\"You have already tried that letter. Please try another letter\")\n",
    "        elif self.guess.lower() in self.word_guessed:\n",
    "            for x in range(0, len(self.word_guessed)):\n",
    "                if self.word_guessed[x] == self.guess: self.num_letters[x] = self.guess\n",
    "            print(self.num_letters)\n",
    "            self.list_of_guesses.append(str(self.guess))\n",
    "            return print(f\"Good guess! {self.guess} is in the word.\")\n",
    "        else:\n",
    "            self.num_lives -= 1\n",
    "            self.list_of_guesses.append(str(self.guess))\n",
    "            return print(f\"Sorry, {self.guess} is not in the word. Try again.\")\n",
    "\n",
    "    def play(self):\n",
    "        self.num_letters.extend('_' * len(self.word_guessed))\n",
    "        while self.num_lives > 0 and self.num_letters != self.word_guessed:\n",
    "            self.input_guess()\n",
    "            self.ask_for_input()\n",
    "            self.check_guess()\n",
    "        if self.num_letters == self.word_guessed: print(\"nice one geez. you solved it\")\n",
    "        elif self.num_lives == 0: print(\"Sorry geez. You done goofed\")\n",
    "        else: print(\"You shouldn't see this statement. If so then something hasnt worked right\")\n",
    "\n",
    "    def __str__(self):\n",
    "        return f\"word_list = {self.word_list} \\nnum_lives = {self.num_lives}\\nword_guessed = {self.word_guessed}\\nnum_letters = {self.num_letters}\\nlist_of_guesses = {self.list_of_guesses}\\nguess = {self.guess}\"\n",
    "    \n",
    "play_game = Hangman(fruits)"
   ]
  },
  {
   "cell_type": "code",
   "execution_count": 44,
   "metadata": {},
   "outputs": [
    {
     "name": "stdout",
     "output_type": "stream",
     "text": [
      "word_list = ['mangoes', 'apples', 'raspberries', 'pomegranate', 'banana'] \n",
      "num_lives = 0\n",
      "word_guessed = ['r', 'a', 's', 'p', 'b', 'e', 'r', 'r', 'i', 'e', 's']\n",
      "num_letters = ['r', 'a', 's', 'p', 'b', 'e', 'r', 'r', 'i', 'e', 's', '_', '_', '_', '_', '_', '_', '_', '_', '_', '_', '_']\n",
      "list_of_guesses = ['r', 'a', 's', 'p', 'b', 'e', 'i', 'q', 'm', 'n', 'u', 'd']\n",
      "guess = d\n"
     ]
    }
   ],
   "source": [
    "print(str(play_game))\n"
   ]
  },
  {
   "cell_type": "code",
   "execution_count": 43,
   "metadata": {},
   "outputs": [
    {
     "name": "stdout",
     "output_type": "stream",
     "text": [
      "i\n",
      "You have already tried that letter. Please try another letter\n",
      "p\n",
      "You have already tried that letter. Please try another letter\n",
      "q\n",
      "Sorry, q is not in the word. Try again.\n",
      "m\n",
      "Sorry, m is not in the word. Try again.\n",
      "n\n",
      "Sorry, n is not in the word. Try again.\n",
      "b\n",
      "You have already tried that letter. Please try another letter\n",
      "u\n",
      "Sorry, u is not in the word. Try again.\n",
      "r\n",
      "You have already tried that letter. Please try another letter\n",
      "d\n",
      "Sorry, d is not in the word. Try again.\n",
      "Sorry geez. You done goofed\n"
     ]
    }
   ],
   "source": [
    "play_game.play()"
   ]
  }
 ],
 "metadata": {
  "kernelspec": {
   "display_name": "Python 3",
   "language": "python",
   "name": "python3"
  },
  "language_info": {
   "codemirror_mode": {
    "name": "ipython",
    "version": 3
   },
   "file_extension": ".py",
   "mimetype": "text/x-python",
   "name": "python",
   "nbconvert_exporter": "python",
   "pygments_lexer": "ipython3",
   "version": "3.11.4"
  },
  "orig_nbformat": 4
 },
 "nbformat": 4,
 "nbformat_minor": 2
}
