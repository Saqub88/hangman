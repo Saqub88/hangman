{
 "cells": [
  {
   "cell_type": "code",
   "execution_count": 2,
   "metadata": {},
   "outputs": [
    {
     "name": "stdout",
     "output_type": "stream",
     "text": [
      "['mangoes', 'apples', 'raspberries', 'pomegranate', 'passion fruit']\n"
     ]
    }
   ],
   "source": [
    "import random\n",
    "word_list = ['mangoes', 'apples', 'raspberries', 'pomegranate', 'passion fruit']\n",
    "print(word_list)\n",
    "word = random.choice(word_list)\n",
    "guess = input(\"Please enter a single letter as your guess: \")"
   ]
  },
  {
   "cell_type": "code",
   "execution_count": 23,
   "metadata": {},
   "outputs": [],
   "source": [
    "class Hangman:\n",
    "    def __init__(self, word_list, num_lives=5):\n",
    "        self.word_list = word_list\n",
    "        self.num_lives = num_lives\n",
    "        self.word_guessed = None\n",
    "        self.num_letters = None\n",
    "        self.list_of_guesses = None\n",
    "        self.guess = None\n",
    "    \n",
    "    def input_guess(self):\n",
    "        self.guess = input(\"Please enter a single letter as your guess: \")\n",
    "        print(self.guess)\n",
    "\n",
    "    def ask_for_input(self):\n",
    "        while True:\n",
    "            if len(self.guess) == 1 and self.guess.isalpha():\n",
    "                break\n",
    "            else:\n",
    "                self.guess = (input(\"Invalid letter. Please, enter a single alphabetical character.\"))\n",
    "\n",
    "    def check_guess(self):\n",
    "        if self.guess.lower() in ['q','w','e','r','t','y']:\n",
    "            return print(f\"Good guess! {self.guess} is in the word.\")\n",
    "        else:\n",
    "            return print(f\"Sorry, {self.guess} is not in the word. Try again.\")\n",
    "\n",
    "    def play(self):\n",
    "       \n",
    "        self.input_guess()\n",
    "        self.ask_for_input()\n",
    "        self.check_guess()\n",
    "\n",
    "    def __str__(self):\n",
    "        return f\"word_list = {self.word_list} \\nnum_lives = {self.num_lives}\\nword_guessed = {self.word_guessed}\\nnum_letters = {self.num_letters}\\nlist_of_guesses = {self.list_of_guesses}\\nguess = {self.guess}\"\n",
    "    \n",
    "play_game = Hangman('fruit')"
   ]
  },
  {
   "cell_type": "code",
   "execution_count": 24,
   "metadata": {},
   "outputs": [
    {
     "name": "stdout",
     "output_type": "stream",
     "text": [
      "word_list = fruit \n",
      "num_lives = 5\n",
      "word_guessed = None\n",
      "num_letters = None\n",
      "list_of_guesses = None\n",
      "guess = None\n"
     ]
    }
   ],
   "source": [
    "print(str(play_game))\n"
   ]
  },
  {
   "cell_type": "code",
   "execution_count": 26,
   "metadata": {},
   "outputs": [
    {
     "name": "stdout",
     "output_type": "stream",
     "text": [
      "e\n",
      "Good guess! e is in the word.\n"
     ]
    }
   ],
   "source": [
    "play_game.play()"
   ]
  }
 ],
 "metadata": {
  "kernelspec": {
   "display_name": "Python 3",
   "language": "python",
   "name": "python3"
  },
  "language_info": {
   "codemirror_mode": {
    "name": "ipython",
    "version": 3
   },
   "file_extension": ".py",
   "mimetype": "text/x-python",
   "name": "python",
   "nbconvert_exporter": "python",
   "pygments_lexer": "ipython3",
   "version": "3.11.4"
  },
  "orig_nbformat": 4
 },
 "nbformat": 4,
 "nbformat_minor": 2
}
